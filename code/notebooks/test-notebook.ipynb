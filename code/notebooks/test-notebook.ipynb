{
 "cells": [
  {
   "cell_type": "code",
   "execution_count": null,
   "id": "1818fbc8",
   "metadata": {},
   "outputs": [],
   "source": [
    "print(\"ABCD\")\n",
    "# What is this anyway? IntelliJ can do a better job at this anyday\n",
    "print(list(reversed([1,2,3,4,5,6])))"
   ]
  },
  {
   "cell_type": "markdown",
   "id": "cdb4d7d6",
   "metadata": {},
   "source": [
    "# OK So this is some Markdown\n",
    "- What is all the fuss about though?\n",
    "- Hmm\n",
    "- OK Fine\n",
    "\n",
    "$\n",
    "y^2=x^2+c\n",
    "$\n"
   ]
  },
  {
   "cell_type": "markdown",
   "id": "cab6fd63",
   "metadata": {},
   "source": [
    "sdsdsdsd"
   ]
  },
  {
   "cell_type": "markdown",
   "id": "98559f38",
   "metadata": {},
   "source": [
    "# dfdfdfdf\n"
   ]
  },
  {
   "cell_type": "code",
   "execution_count": null,
   "id": "1b3df453",
   "metadata": {},
   "outputs": [],
   "source": []
  }
 ],
 "metadata": {
  "kernelspec": {
   "display_name": "Python 3",
   "language": "python",
   "name": "python3"
  },
  "language_info": {
   "codemirror_mode": {
    "name": "ipython",
    "version": 3
   },
   "file_extension": ".py",
   "mimetype": "text/x-python",
   "name": "python",
   "nbconvert_exporter": "python",
   "pygments_lexer": "ipython3",
   "version": "3.9.1"
  }
 },
 "nbformat": 4,
 "nbformat_minor": 5
}
